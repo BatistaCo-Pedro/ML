{
 "cells": [],
 "metadata": {
  "kernelspec": {
   "display_name": "Python 3.11.0 64-bit",
   "language": "python",
   "name": "python3"
  },
  "language_info": {
   "codemirror_mode": {
    "name": "ipython",
    "version": 3
   },
   "file_extension": ".py",
   "mimetype": "text/x-python",
   "name": "python",
   "nbconvert_exporter": "python",
   "pygments_lexer": "ipython3",
   "version": "3.11.0"
  },
  "orig_nbformat": 4,
  "vscode": {
   "interpreter": {
    "hash": "b93d7f58fa87cccc1c54a1bb58fde30533742810013d86233f92d0fba50587f2"
   }
  }
 },
 "nbformat": 4,
 "nbformat_minor": 2
}
